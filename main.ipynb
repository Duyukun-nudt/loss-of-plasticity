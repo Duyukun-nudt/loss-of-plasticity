{
 "cells": [
  {
   "cell_type": "code",
   "execution_count": 1,
   "metadata": {},
   "outputs": [],
   "source": [
    "import os\n",
    "import yaml\n",
    "import pickle\n",
    "import argparse\n",
    "import subprocess\n",
    "import numpy as np\n",
    "\n",
    "import gym\n",
    "import torch\n",
    "from torch.optim import Adam\n",
    "\n",
    "import lop.envs\n",
    "from lop.algos.rl.buffer import Buffer\n",
    "from lop.nets.policies import MLPPolicy\n",
    "from lop.nets.valuefs import MLPVF\n",
    "from lop.algos.rl.agent import Agent\n",
    "from lop.algos.rl.ppo import PPO\n",
    "from lop.utils.miscellaneous import compute_matrix_rank_summaries"
   ]
  },
  {
   "cell_type": "code",
   "execution_count": 2,
   "metadata": {},
   "outputs": [],
   "source": [
    "def save_data(cfg, rets, termination_steps,\n",
    "              pol_features_activity, stable_rank, mu, pol_weights, val_weights,\n",
    "              action_probs=None, weight_change=[], friction=-1.0, num_updates=0, previous_change_time=0):\n",
    "    data_dict = {\n",
    "        'rets': np.array(rets),\n",
    "        'termination_steps': np.array(termination_steps),\n",
    "        'pol_features_activity': pol_features_activity,\n",
    "        'stable_rank': stable_rank,\n",
    "        'action_output': mu,\n",
    "        'pol_weights': pol_weights,\n",
    "        'val_weights': val_weights,\n",
    "        'action_probs': action_probs,\n",
    "        'weight_change': torch.tensor(weight_change).numpy(),\n",
    "        'friction': friction,\n",
    "        'num_updates': num_updates,\n",
    "        'previous_change_time': previous_change_time\n",
    "    }\n",
    "    with open(cfg['log_path'], 'wb') as f:\n",
    "        pickle.dump(data_dict, f, pickle.HIGHEST_PROTOCOL)\n",
    "\n",
    "\n",
    "def load_data(cfg):\n",
    "    with open(cfg['log_path'], 'rb') as f:\n",
    "        data_dict = pickle.load(f)\n",
    "    return data_dict\n",
    "\n",
    "\n",
    "def save_checkpoint(cfg, step, learner):\n",
    "    # Save step, model and optimizer states\n",
    "    ckpt_dict = dict(\n",
    "        step = step,\n",
    "        actor = learner.pol.state_dict(),\n",
    "        critic = learner.vf.state_dict(),\n",
    "        opt = learner.opt.state_dict()\n",
    "    )\n",
    "    torch.save(ckpt_dict, cfg['ckpt_path'])\n",
    "    print(f'Save checkpoint at step={step}')\n",
    "\n",
    "\n",
    "def load_checkpoint(cfg, device, learner):\n",
    "    # Load step, model and optimizer states\n",
    "    step = 0\n",
    "    ckpt_dict = torch.load(cfg['ckpt_path'], map_location=device)\n",
    "    step = ckpt_dict['step']\n",
    "    learner.pol.load_state_dict(ckpt_dict['actor'])\n",
    "    learner.vf.load_state_dict(ckpt_dict['critic'])\n",
    "    learner.opt.load_state_dict(ckpt_dict['opt'])\n",
    "    print(f\"Successfully restore from checkpoint: {cfg['ckpt_path']}.\")\n",
    "    return step, learner"
   ]
  },
  {
   "cell_type": "code",
   "execution_count": 12,
   "metadata": {},
   "outputs": [
    {
     "name": "stderr",
     "output_type": "stream",
     "text": [
      "usage: ipykernel_launcher.py [-h] [-c CONFIG] [-s SEED] [-d DEVICE]\n",
      "ipykernel_launcher.py: error: unrecognized arguments: --f=c:\\Users\\Administrator\\AppData\\Roaming\\jupyter\\runtime\\kernel-v30bf11b76397732c72c7fddb91a21b3667b45f63f.json\n"
     ]
    },
    {
     "ename": "SystemExit",
     "evalue": "2",
     "output_type": "error",
     "traceback": [
      "An exception has occurred, use %tb to see the full traceback.\n",
      "\u001b[1;31mSystemExit\u001b[0m\u001b[1;31m:\u001b[0m 2\n"
     ]
    },
    {
     "name": "stderr",
     "output_type": "stream",
     "text": [
      "c:\\Users\\Administrator\\.conda\\envs\\rl1\\Lib\\site-packages\\IPython\\core\\interactiveshell.py:3585: UserWarning: To exit: use 'exit', 'quit', or Ctrl-D.\n",
      "  warn(\"To exit: use 'exit', 'quit', or Ctrl-D.\", stacklevel=1)\n"
     ]
    }
   ],
   "source": [
    "def main():\n",
    "    parser = argparse.ArgumentParser()\n",
    "    parser.add_argument('-c', '--config', required=False, type=str, default='./cfg/ant/std.yml')\n",
    "    parser.add_argument('-s', '--seed', required=False, type=int, default=\"1\")\n",
    "    parser.add_argument('-d', '--device', required=False, default='cpu')\n",
    "\n",
    "    args = parser.parse_args() #解析从命令行传入的参数，并将解析后的结果存入 args 对象中。\n",
    "    print(args)\n",
    "    if args.device: device = args.device\n",
    "    else: device = 'cuda' if torch.cuda.is_available() else 'cpu'\n",
    "main()"
   ]
  }
 ],
 "metadata": {
  "kernelspec": {
   "display_name": "rl1",
   "language": "python",
   "name": "python3"
  },
  "language_info": {
   "codemirror_mode": {
    "name": "ipython",
    "version": 3
   },
   "file_extension": ".py",
   "mimetype": "text/x-python",
   "name": "python",
   "nbconvert_exporter": "python",
   "pygments_lexer": "ipython3",
   "version": "3.12.4"
  }
 },
 "nbformat": 4,
 "nbformat_minor": 2
}
